{
  "nbformat": 4,
  "nbformat_minor": 0,
  "metadata": {
    "colab": {
      "provenance": [],
      "authorship_tag": "ABX9TyNHMTdGKpYf1bczVADJ2dd0",
      "include_colab_link": true
    },
    "kernelspec": {
      "name": "python3",
      "display_name": "Python 3"
    },
    "language_info": {
      "name": "python"
    }
  },
  "cells": [
    {
      "cell_type": "markdown",
      "metadata": {
        "id": "view-in-github",
        "colab_type": "text"
      },
      "source": [
        "<a href=\"https://colab.research.google.com/github/KCY132/HW/blob/main/HW10.ipynb\" target=\"_parent\"><img src=\"https://colab.research.google.com/assets/colab-badge.svg\" alt=\"Open In Colab\"/></a>"
      ]
    },
    {
      "cell_type": "code",
      "execution_count": 1,
      "metadata": {
        "colab": {
          "base_uri": "https://localhost:8080/",
          "height": 1000
        },
        "id": "mg-MpDsERhA_",
        "outputId": "da09d141-6c59-43bd-e98d-10b8dfc9683e"
      },
      "outputs": [
        {
          "output_type": "stream",
          "name": "stdout",
          "text": [
            "Epoch 1, MSE: 1.4356, MAPE: 959.78%\n",
            "Epoch 2, MSE: 1.3955, MAPE: 943.63%\n",
            "Epoch 3, MSE: 1.3601, MAPE: 928.50%\n",
            "Epoch 4, MSE: 1.3288, MAPE: 914.32%\n",
            "Epoch 5, MSE: 1.3012, MAPE: 901.01%\n",
            "Epoch 6, MSE: 1.2767, MAPE: 888.52%\n",
            "Epoch 7, MSE: 1.2550, MAPE: 876.80%\n",
            "Epoch 8, MSE: 1.2359, MAPE: 865.80%\n",
            "Epoch 9, MSE: 1.2189, MAPE: 855.46%\n",
            "Epoch 10, MSE: 1.2038, MAPE: 845.75%\n",
            "Epoch 11, MSE: 1.1905, MAPE: 836.64%\n",
            "Epoch 12, MSE: 1.1786, MAPE: 828.09%\n",
            "Epoch 13, MSE: 1.1681, MAPE: 820.05%\n",
            "Epoch 14, MSE: 1.1588, MAPE: 812.50%\n",
            "Epoch 15, MSE: 1.1505, MAPE: 805.40%\n",
            "Epoch 16, MSE: 1.1431, MAPE: 798.74%\n",
            "Epoch 17, MSE: 1.1365, MAPE: 792.47%\n",
            "Epoch 18, MSE: 1.1307, MAPE: 786.58%\n",
            "Epoch 19, MSE: 1.1255, MAPE: 781.04%\n",
            "Epoch 20, MSE: 1.1208, MAPE: 775.83%\n",
            "Epoch 21, MSE: 1.1166, MAPE: 770.93%\n",
            "Epoch 22, MSE: 1.1129, MAPE: 766.32%\n",
            "Epoch 23, MSE: 1.1096, MAPE: 761.98%\n",
            "Epoch 24, MSE: 1.1066, MAPE: 757.90%\n",
            "Epoch 25, MSE: 1.1039, MAPE: 754.05%\n",
            "Epoch 26, MSE: 1.1014, MAPE: 750.43%\n",
            "Epoch 27, MSE: 1.0992, MAPE: 747.02%\n",
            "Epoch 28, MSE: 1.0973, MAPE: 743.81%\n",
            "Epoch 29, MSE: 1.0955, MAPE: 740.79%\n",
            "Epoch 30, MSE: 1.0938, MAPE: 737.94%\n",
            "Epoch 31, MSE: 1.0924, MAPE: 735.26%\n",
            "Epoch 32, MSE: 1.0910, MAPE: 732.73%\n",
            "Epoch 33, MSE: 1.0897, MAPE: 730.35%\n",
            "Epoch 34, MSE: 1.0886, MAPE: 728.11%\n",
            "Epoch 35, MSE: 1.0876, MAPE: 725.99%\n",
            "Epoch 36, MSE: 1.0866, MAPE: 723.99%\n",
            "Epoch 37, MSE: 1.0857, MAPE: 722.11%\n",
            "Epoch 38, MSE: 1.0848, MAPE: 720.33%\n",
            "Epoch 39, MSE: 1.0840, MAPE: 718.65%\n",
            "Epoch 40, MSE: 1.0833, MAPE: 717.07%\n",
            "Epoch 41, MSE: 1.0826, MAPE: 715.57%\n",
            "Epoch 42, MSE: 1.0819, MAPE: 714.16%\n",
            "Epoch 43, MSE: 1.0813, MAPE: 712.83%\n",
            "Epoch 44, MSE: 1.0807, MAPE: 711.56%\n",
            "Epoch 45, MSE: 1.0802, MAPE: 710.37%\n",
            "Epoch 46, MSE: 1.0796, MAPE: 709.25%\n",
            "Epoch 47, MSE: 1.0791, MAPE: 708.18%\n",
            "Epoch 48, MSE: 1.0786, MAPE: 707.17%\n",
            "Epoch 49, MSE: 1.0781, MAPE: 706.21%\n",
            "Epoch 50, MSE: 1.0776, MAPE: 705.31%\n"
          ]
        },
        {
          "output_type": "display_data",
          "data": {
            "text/plain": [
              "<Figure size 640x480 with 1 Axes>"
            ],
            "image/png": "[encoded data removed]"
          },
          "metadata": {}
        }
      ],
      "source": [
        "import numpy as np\n",
        "import matplotlib.pyplot as plt\n",
        "\n",
        "# --- 시그모이드 정의 ---\n",
        "def sigmoid(x):\n",
        "    return 1 / (1 + np.exp(-x))\n",
        "\n",
        "def sigmoid_deriv(x):\n",
        "    return sigmoid(x) * (1 - sigmoid(x))\n",
        "\n",
        "# --- 손실 함수 정의 ---\n",
        "def mse(y_true, y_pred):\n",
        "    return np.mean((y_true - y_pred)**2)\n",
        "\n",
        "def mape(y_true, y_pred):\n",
        "    return np.mean(np.abs((y_true - y_pred) / y_true)) * 100\n",
        "\n",
        "# --- 데이터 생성 ---\n",
        "np.random.seed(0)\n",
        "samples = 1000\n",
        "x1 = np.random.uniform(0, 1, samples)\n",
        "x2 = np.random.uniform(0, 1, samples)\n",
        "X = np.column_stack((x1, x2))\n",
        "y = 2 * x1 + 3 * x2 - 1\n",
        "y = y.reshape(-1, 1)\n",
        "\n",
        "# --- 입력에 bias 추가 ---\n",
        "Xb = np.hstack([np.ones((samples, 1)), X])  # shape: (1000, 3)\n",
        "\n",
        "# --- 네트워크 초기 가중치 설정 ---\n",
        "np.random.seed(0)\n",
        "w_hidden = np.random.randn(3, 3)  # (입력 3, 은닉노드 3)\n",
        "w_output = np.random.randn(4, 1)  # (은닉노드 3 + bias, 출력 1)\n",
        "\n",
        "# --- 학습 설정 ---\n",
        "lr = 0.01\n",
        "epochs = 50\n",
        "\n",
        "mse_list = []\n",
        "mape_list = []\n",
        "\n",
        "for epoch in range(epochs):\n",
        "    ## --- 순전파 ---\n",
        "    z_hidden = Xb @ w_hidden       # (1000,3)\n",
        "    a_hidden = sigmoid(z_hidden)   # (1000,3)\n",
        "\n",
        "    # 은닉 출력에 bias 추가\n",
        "    a_hidden_b = np.hstack([np.ones((samples, 1)), a_hidden])  # (1000,4)\n",
        "\n",
        "    z_output = a_hidden_b @ w_output  # (1000,1)\n",
        "    y_pred = z_output                 # 선형 출력\n",
        "\n",
        "    ## --- 손실 계산 ---\n",
        "    loss_mse = mse(y, y_pred)\n",
        "    loss_mape = mape(y, y_pred)\n",
        "    mse_list.append(loss_mse)\n",
        "    mape_list.append(loss_mape)\n",
        "\n",
        "    ## --- 역전파 ---\n",
        "    dL_dy = 2 * (y_pred - y) / samples            # (1000,1)\n",
        "    dL_dw_output = a_hidden_b.T @ dL_dy           # (4,1)\n",
        "\n",
        "    # 은닉층 역전파\n",
        "    d_hidden = dL_dy @ w_output[1:].T * sigmoid_deriv(z_hidden)  # (1000,3)\n",
        "    dL_dw_hidden = Xb.T @ d_hidden                # (3,3)\n",
        "\n",
        "    # 가중치 업데이트\n",
        "    w_output -= lr * dL_dw_output\n",
        "    w_hidden -= lr * dL_dw_hidden\n",
        "\n",
        "    print(f\"Epoch {epoch+1}, MSE: {loss_mse:.4f}, MAPE: {loss_mape:.2f}%\")\n",
        "\n",
        "# --- 시각화 ---\n",
        "plt.plot(mse_list, label='MSE')\n",
        "plt.plot(mape_list, label='MAPE')\n",
        "plt.xlabel(\"Epoch\")\n",
        "plt.ylabel(\"Cost\")\n",
        "plt.title(\"Training Loss\")\n",
        "plt.legend()\n",
        "plt.grid(True)\n",
        "plt.show()\n"
      ]
    }
  ]
}